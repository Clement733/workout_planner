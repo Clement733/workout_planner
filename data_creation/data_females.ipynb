{
 "cells": [
  {
   "cell_type": "markdown",
   "id": "377f1e4f",
   "metadata": {},
   "source": [
    "# Imports"
   ]
  },
  {
   "cell_type": "code",
   "execution_count": null,
   "id": "451f55a9",
   "metadata": {},
   "outputs": [],
   "source": [
    "import pandas as pd\n",
    "import numpy as np\n",
    "import csv\n",
    "import matplotlib.pyplot as plt\n",
    "import seaborn as sns"
   ]
  },
  {
   "cell_type": "markdown",
   "id": "1944988b",
   "metadata": {},
   "source": [
    "# Creation of female data"
   ]
  },
  {
   "cell_type": "markdown",
   "id": "514130c1",
   "metadata": {},
   "source": [
    "## First female user (name = Julia)"
   ]
  },
  {
   "cell_type": "markdown",
   "id": "2367eb85",
   "metadata": {},
   "source": [
    "### Chest exercise data"
   ]
  },
  {
   "cell_type": "code",
   "execution_count": null,
   "id": "e768f080",
   "metadata": {},
   "outputs": [],
   "source": [
    "chest_ff = np.random.randint(20 * 2, 51 * 2, num_values) / 2\n",
    "chest_ff = np.sort(chest_ff)\n",
    "chest_ff_r = []\n",
    "chest_ff_r_c = {}\n",
    "for rep in chest_ff:\n",
    "    if rep not in chest_ff_r_c:\n",
    "        chest_ff_r_c[rep] = 8\n",
    "    else:\n",
    "        chest_ff_r_c[rep] += 2\n",
    "    chest_ff_r.append(chest_ff_r_c[rep])\n",
    "df_chest_ff = pd.DataFrame({'Chest_Weight': chest_ff, 'Chest_Repetitions': chest_ff_r})"
   ]
  },
  {
   "cell_type": "markdown",
   "id": "465ce844",
   "metadata": {},
   "source": [
    "### Shoulders exercise data"
   ]
  },
  {
   "cell_type": "code",
   "execution_count": null,
   "id": "ea0450fb",
   "metadata": {},
   "outputs": [],
   "source": [
    "shoulders_ff = np.random.randint(4, 11, num_values)\n",
    "shoulders_ff = np.sort(shoulders_ff)\n",
    "shoulders_ff_r = []\n",
    "shoulders_ff_r_c = {}\n",
    "for rep in shoulders_ff:\n",
    "    if rep not in shoulders_ff_r_c:\n",
    "        shoulders_ff_r_c[rep] = 8\n",
    "    else:\n",
    "        shoulders_ff_r_c[rep] += 1\n",
    "    if shoulders_ff_r_c[rep] > 15:\n",
    "        shoulders_ff_r_c[rep] = 15\n",
    "    shoulders_ff_r.append(shoulders_ff_r_c[rep])\n",
    "df_shoulders_ff = pd.DataFrame({'Shoulders_Weight': shoulders_ff, 'Shoulders_Repetitions': shoulders_ff_r})"
   ]
  },
  {
   "cell_type": "markdown",
   "id": "204f3f41",
   "metadata": {},
   "source": [
    "### Legs exercise data"
   ]
  },
  {
   "cell_type": "code",
   "execution_count": null,
   "id": "08b5f69b",
   "metadata": {},
   "outputs": [],
   "source": [
    "legs_ff = np.random.randint(30 * 2, 71 * 2, num_values) / 2\n",
    "legs_ff = np.sort(legs_ff)\n",
    "legs_ff_r = []\n",
    "legs_ff_r_c = {}\n",
    "for rep in legs_ff:\n",
    "    if rep not in legs_ff_r_c:\n",
    "        legs_ff_r_c[rep] = 8\n",
    "    else:\n",
    "        legs_ff_r_c[rep] += 2\n",
    "    legs_ff_r.append(legs_ff_r_c[rep])\n",
    "df_legs_ff = pd.DataFrame({'Legs_Weight': legs_ff, 'Legs_Repetitions': legs_ff_r})"
   ]
  },
  {
   "cell_type": "markdown",
   "id": "05c4b995",
   "metadata": {},
   "source": [
    "### Back exercise data"
   ]
  },
  {
   "cell_type": "code",
   "execution_count": null,
   "id": "94032b6d",
   "metadata": {},
   "outputs": [],
   "source": [
    "back_ff = np.random.randint(10 * 2, 41 * 2, num_values) / 2\n",
    "back_ff = np.sort(back_ff)\n",
    "back_ff_r = []\n",
    "back_ff_r_c = {}\n",
    "for rep in back_ff:\n",
    "    if rep not in back_ff_r_c:\n",
    "        back_ff_r_c[rep] = 8\n",
    "    else:\n",
    "        back_ff_r_c[rep] += 2\n",
    "    back_ff_r.append(back_ff_r_c[rep])\n",
    "df_back_ff = pd.DataFrame({'Back_Weight': back_ff, 'Back_Repetitions': back_ff_r})"
   ]
  },
  {
   "cell_type": "markdown",
   "id": "30769465",
   "metadata": {},
   "source": [
    "### Full body data"
   ]
  },
  {
   "cell_type": "code",
   "execution_count": null,
   "id": "7b5bdd9a",
   "metadata": {},
   "outputs": [],
   "source": [
    "list_julia = [chest_ff, chest_ff_r, shoulders_ff, shoulders_ff_r, legs_ff, legs_ff_r, back_ff, back_ff_r]"
   ]
  },
  {
   "cell_type": "code",
   "execution_count": null,
   "id": "40efad58",
   "metadata": {},
   "outputs": [],
   "source": [
    "df_first_female = pd.concat([df_chest_ff, df_shoulders_ff, df_legs_ff, df_back_ff], axis = 1)\n",
    "df_first_female.head()"
   ]
  },
  {
   "cell_type": "markdown",
   "id": "31a7011c",
   "metadata": {},
   "source": [
    "## Second female user (name = Jane)"
   ]
  },
  {
   "cell_type": "markdown",
   "id": "790d594b",
   "metadata": {},
   "source": [
    "### Chest exercise data"
   ]
  },
  {
   "cell_type": "code",
   "execution_count": null,
   "id": "a58775bd",
   "metadata": {},
   "outputs": [],
   "source": [
    "chest_sf = np.random.randint(10 * 2, 38 * 2, num_values) / 2\n",
    "chest_sf = np.sort(chest_sf)\n",
    "chest_sf_r = []\n",
    "chest_sf_r_c = {}\n",
    "for rep in chest_sf:\n",
    "    if rep not in chest_sf_r_c:\n",
    "        chest_sf_r_c[rep] = 8\n",
    "    else:\n",
    "        chest_sf_r_c[rep] += 1\n",
    "    chest_sf_r.append(chest_sf_r_c[rep])\n",
    "df_chest_sf = pd.DataFrame({'Chest_Weight': chest_sf, 'Chest_Repetitions': chest_sf_r})"
   ]
  },
  {
   "cell_type": "markdown",
   "id": "6a9b2615",
   "metadata": {},
   "source": [
    "### Shoulders exercise data"
   ]
  },
  {
   "cell_type": "code",
   "execution_count": 1,
   "id": "05735f73",
   "metadata": {},
   "outputs": [
    {
     "ename": "NameError",
     "evalue": "name 'num_values' is not defined",
     "output_type": "error",
     "traceback": [
      "\u001b[0;31m---------------------------------------------------------------------------\u001b[0m",
      "\u001b[0;31mNameError\u001b[0m                                 Traceback (most recent call last)",
      "Cell \u001b[0;32mIn [1], line 1\u001b[0m\n\u001b[0;32m----> 1\u001b[0m shoulders_sf \u001b[38;5;241m=\u001b[39m np\u001b[38;5;241m.\u001b[39mrandom\u001b[38;5;241m.\u001b[39mrandint(\u001b[38;5;241m3\u001b[39m, \u001b[38;5;241m8\u001b[39m, \u001b[43mnum_values\u001b[49m)\n\u001b[1;32m      2\u001b[0m shoulders_sf \u001b[38;5;241m=\u001b[39m np\u001b[38;5;241m.\u001b[39msort(shoulders_sf)\n\u001b[1;32m      3\u001b[0m shoulders_sf_r \u001b[38;5;241m=\u001b[39m []\n",
      "\u001b[0;31mNameError\u001b[0m: name 'num_values' is not defined"
     ]
    }
   ],
   "source": [
    "shoulders_sf = np.random.randint(3, 8, num_values)\n",
    "shoulders_sf = np.sort(shoulders_sf)\n",
    "shoulders_sf_r = []\n",
    "shoulders_sf_r_c = {}\n",
    "for rep in shoulders_sf:\n",
    "    if rep not in shoulders_sf_r_c:\n",
    "        shoulders_sf_r_c[rep] = 8\n",
    "    else:\n",
    "        shoulders_sf_r_c[rep] += 1\n",
    "    if shoulders_sf_r_c[rep] > 15:\n",
    "        shoulders_sf_r_c[rep] = 15\n",
    "    shoulders_sf_r.append(shoulders_sf_r_c[rep])\n",
    "df_shoulders_sf = pd.DataFrame({'Shoulders_Weight': shoulders_sf, 'Shoulders_Repetitions': shoulders_sf_r})"
   ]
  },
  {
   "cell_type": "markdown",
   "id": "b6c92ca1",
   "metadata": {},
   "source": [
    "### Legs exercise data"
   ]
  },
  {
   "cell_type": "code",
   "execution_count": null,
   "id": "a7374772",
   "metadata": {},
   "outputs": [],
   "source": [
    "legs_sf = np.random.randint(20 * 2, 51 * 2, num_values) / 2\n",
    "legs_sf = np.sort(legs_sf)\n",
    "legs_sf_r = []\n",
    "legs_sf_r_c = {}\n",
    "for rep in legs_sf:\n",
    "    if rep not in legs_sf_r_c:\n",
    "        legs_sf_r_c[rep] = 8\n",
    "    else:\n",
    "        legs_sf_r_c[rep] += 2\n",
    "    legs_sf_r.append(legs_sf_r_c[rep])\n",
    "df_legs_sf = pd.DataFrame({'Legs_Weight': legs_sf, 'Legs_Repetitions': legs_sf_r})"
   ]
  },
  {
   "cell_type": "markdown",
   "id": "43145370",
   "metadata": {},
   "source": [
    "### Back exercise data"
   ]
  },
  {
   "cell_type": "code",
   "execution_count": null,
   "id": "32fb8d84",
   "metadata": {},
   "outputs": [],
   "source": [
    "back_sf = np.random.randint(10 * 4, 31 * 4, num_values) / 4\n",
    "back_sf = np.sort(back_sf)\n",
    "back_sf_r = []\n",
    "back_sf_r_c = {}\n",
    "for rep in back_sf:\n",
    "    if rep not in back_sf_r_c:\n",
    "        back_sf_r_c[rep] = 8\n",
    "    else:\n",
    "        back_sf_r_c[rep] += 2\n",
    "    back_sf_r.append(back_sf_r_c[rep])\n",
    "df_back_sf = pd.DataFrame({'Back_Weight': back_sf, 'Back_Repetitions': back_sf_r})"
   ]
  },
  {
   "cell_type": "markdown",
   "id": "ad680269",
   "metadata": {},
   "source": [
    "### Full body data"
   ]
  },
  {
   "cell_type": "code",
   "execution_count": null,
   "id": "e31b4ab8",
   "metadata": {},
   "outputs": [],
   "source": [
    "list_jane = [chest_sf, chest_sf_r, shoulders_sf, shoulders_sf_r, legs_sf, legs_sf_r, back_sf, back_sf_r]"
   ]
  },
  {
   "cell_type": "code",
   "execution_count": null,
   "id": "6b6d0046",
   "metadata": {},
   "outputs": [],
   "source": [
    "df_second_female = pd.concat([df_chest_sf, df_shoulders_sf, df_legs_sf, df_back_sf], axis = 1)\n",
    "df_second_female"
   ]
  },
  {
   "cell_type": "markdown",
   "id": "a4bd4ad2",
   "metadata": {},
   "source": [
    "## Third female user (name = Lily)"
   ]
  },
  {
   "cell_type": "markdown",
   "id": "c7a8681c",
   "metadata": {},
   "source": [
    "### Chest exercise data"
   ]
  },
  {
   "cell_type": "code",
   "execution_count": null,
   "id": "758b5d70",
   "metadata": {},
   "outputs": [],
   "source": [
    "chest_tf = np.random.randint(20, 61, num_values)\n",
    "chest_tf = np.sort(chest_tf)\n",
    "chest_tf_r = []\n",
    "chest_tf_r_c = {}\n",
    "for rep in chest_tf:\n",
    "    if rep not in chest_tf_r_c:\n",
    "        chest_tf_r_c[rep] = 8\n",
    "    else:\n",
    "        chest_tf_r_c[rep] += 1\n",
    "    chest_tf_r.append(chest_tf_r_c[rep])\n",
    "df_chest_tf = pd.DataFrame({'Chest_Weight': chest_tf, 'Chest_Repetitions': chest_tf_r})"
   ]
  },
  {
   "cell_type": "markdown",
   "id": "d0f5dc60",
   "metadata": {},
   "source": [
    "### Shoulders exercise data"
   ]
  },
  {
   "cell_type": "code",
   "execution_count": null,
   "id": "952967bf",
   "metadata": {},
   "outputs": [],
   "source": [
    "shoulders_tf = np.random.randint(4, 11, num_values)\n",
    "shoulders_tf = np.sort(shoulders_tf)\n",
    "shoulders_tf_r = []\n",
    "shoulders_tf_r_c = {}\n",
    "for rep in shoulders_tf:\n",
    "    if rep not in shoulders_tf_r_c:\n",
    "        shoulders_tf_r_c[rep] = 8\n",
    "    else:\n",
    "        shoulders_tf_r_c[rep] += 1\n",
    "    if shoulders_tf_r_c[rep] > 15:\n",
    "        shoulders_tf_r_c[rep] = 15\n",
    "    shoulders_tf_r.append(shoulders_tf_r_c[rep])\n",
    "df_shoulders_tf = pd.DataFrame({'Shoulders_Weight': shoulders_tf, 'Shoulders_Repetitions': shoulders_tf_r})"
   ]
  },
  {
   "cell_type": "markdown",
   "id": "e8a957bc",
   "metadata": {},
   "source": [
    "### Legs exercise data"
   ]
  },
  {
   "cell_type": "code",
   "execution_count": null,
   "id": "404e37d7",
   "metadata": {},
   "outputs": [],
   "source": [
    "legs_tf = np.random.randint(30, 81, num_values)\n",
    "legs_tf = np.sort(legs_tf)\n",
    "legs_tf_r = []\n",
    "legs_tf_r_c = {}\n",
    "for rep in legs_tf:\n",
    "    if rep not in legs_tf_r_c:\n",
    "        legs_tf_r_c[rep] = 8\n",
    "    else:\n",
    "        legs_tf_r_c[rep] += 2\n",
    "    legs_tf_r.append(legs_tf_r_c[rep])\n",
    "df_legs_tf = pd.DataFrame({'Legs_Weight': legs_tf, 'Legs_Repetitions': legs_tf_r})"
   ]
  },
  {
   "cell_type": "markdown",
   "id": "fe0e273c",
   "metadata": {},
   "source": [
    "### Back exercise data"
   ]
  },
  {
   "cell_type": "code",
   "execution_count": 2,
   "id": "2c3e7d89",
   "metadata": {},
   "outputs": [
    {
     "ename": "NameError",
     "evalue": "name 'num_values' is not defined",
     "output_type": "error",
     "traceback": [
      "\u001b[0;31m---------------------------------------------------------------------------\u001b[0m",
      "\u001b[0;31mNameError\u001b[0m                                 Traceback (most recent call last)",
      "Cell \u001b[0;32mIn [2], line 1\u001b[0m\n\u001b[0;32m----> 1\u001b[0m back_tf \u001b[38;5;241m=\u001b[39m np\u001b[38;5;241m.\u001b[39mrandom\u001b[38;5;241m.\u001b[39mrandint(\u001b[38;5;241m15\u001b[39m, \u001b[38;5;241m61\u001b[39m, \u001b[43mnum_values\u001b[49m)\n\u001b[1;32m      2\u001b[0m back_tf \u001b[38;5;241m=\u001b[39m np\u001b[38;5;241m.\u001b[39msort(back_tf)\n\u001b[1;32m      3\u001b[0m back_tf_r \u001b[38;5;241m=\u001b[39m []\n",
      "\u001b[0;31mNameError\u001b[0m: name 'num_values' is not defined"
     ]
    }
   ],
   "source": [
    "back_tf = np.random.randint(15, 61, num_values)\n",
    "back_tf = np.sort(back_tf)\n",
    "back_tf_r = []\n",
    "back_tf_r_c = {}\n",
    "for rep in back_tf:\n",
    "    if rep not in back_tf_r_c:\n",
    "        back_tf_r_c[rep] = 8\n",
    "    else:\n",
    "        back_tf_r_c[rep] += 2\n",
    "    back_tf_r.append(back_tf_r_c[rep])\n",
    "df_back_tf = pd.DataFrame({'Back_Weight': back_tf, 'Back_Repetitions': back_tf_r})"
   ]
  },
  {
   "cell_type": "markdown",
   "id": "16398e41",
   "metadata": {},
   "source": [
    "### Full body data"
   ]
  },
  {
   "cell_type": "code",
   "execution_count": null,
   "id": "a62ab4ef",
   "metadata": {},
   "outputs": [],
   "source": [
    "list_lily = [chest_tf, chest_tf_r, shoulders_tf, shoulders_tf_r, legs_tf, legs_tf_r, back_tf, back_tf_r]"
   ]
  },
  {
   "cell_type": "code",
   "execution_count": null,
   "id": "ac2ffa73",
   "metadata": {},
   "outputs": [],
   "source": [
    "df_third_female = pd.concat([df_chest_tf, df_shoulders_tf, df_legs_tf, df_back_tf], axis = 1)\n",
    "df_third_female"
   ]
  },
  {
   "cell_type": "markdown",
   "id": "15127b94",
   "metadata": {},
   "source": [
    "## Fourth female user (name = Chloe)"
   ]
  },
  {
   "cell_type": "markdown",
   "id": "afca176a",
   "metadata": {},
   "source": [
    "### Chest exercise data"
   ]
  },
  {
   "cell_type": "code",
   "execution_count": null,
   "id": "2a2d01a2",
   "metadata": {},
   "outputs": [],
   "source": [
    "chest_4f = np.random.randint(np.random.randint(1, 20), np.random.randint(41, 81), num_values)\n",
    "chest_4f = np.sort(chest_4f)\n",
    "chest_4f_r = []\n",
    "chest_4f_r_c = {}\n",
    "for rep in chest_4f:\n",
    "    if rep not in chest_4f_r_c:\n",
    "        chest_4f_r_c[rep] = 8\n",
    "    else:\n",
    "        chest_4f_r_c[rep] += 1\n",
    "    chest_4f_r.append(chest_4f_r_c[rep])\n",
    "df_chest_4f = pd.DataFrame({'Chest_Weight': chest_4f, 'Chest_Repetitions': chest_4f_r})"
   ]
  },
  {
   "cell_type": "markdown",
   "id": "1944e675",
   "metadata": {},
   "source": [
    "### Shoulders exercise data"
   ]
  },
  {
   "cell_type": "code",
   "execution_count": null,
   "id": "d92c951b",
   "metadata": {},
   "outputs": [],
   "source": [
    "shoulders_4f = np.random.randint(np.random.randint(1, 4), np.random.randint(6, 12), num_values)\n",
    "shoulders_4f = np.sort(shoulders_4f)\n",
    "shoulders_4f_r = []\n",
    "shoulders_4f_r_c = {}\n",
    "for rep in shoulders_4f:\n",
    "    if rep not in shoulders_4f_r_c:\n",
    "        shoulders_4f_r_c[rep] = 8\n",
    "    else:\n",
    "        shoulders_4f_r_c[rep] += 1\n",
    "    if shoulders_4f_r_c[rep] > 15:\n",
    "        shoulders_4f_r_c[rep] = 15\n",
    "    shoulders_4f_r.append(shoulders_4f_r_c[rep])\n",
    "df_shoulders_4f = pd.DataFrame({'Shoulders_Weight': shoulders_4f, 'Shoulders_Repetitions': shoulders_4f_r})"
   ]
  },
  {
   "cell_type": "markdown",
   "id": "6b948b5d",
   "metadata": {},
   "source": [
    "### Legs exercise data"
   ]
  },
  {
   "cell_type": "code",
   "execution_count": null,
   "id": "31fc9127",
   "metadata": {},
   "outputs": [],
   "source": [
    "legs_4f = np.random.randint(np.random.randint(15, 32), np.random.randint(50, 91), num_values)\n",
    "legs_4f = np.sort(legs_4f)\n",
    "legs_4f_r = []\n",
    "legs_4f_r_c = {}\n",
    "for rep in legs_4f:\n",
    "    if rep not in legs_4f_r_c:\n",
    "        legs_4f_r_c[rep] = 8\n",
    "    else:\n",
    "        legs_4f_r_c[rep] += 2\n",
    "    legs_4f_r.append(legs_4f_r_c[rep])\n",
    "df_legs_4f = pd.DataFrame({'Legs_Weight': legs_4f, 'Legs_Repetitions': legs_4f_r})"
   ]
  },
  {
   "cell_type": "markdown",
   "id": "15219e65",
   "metadata": {},
   "source": [
    "### Back exercise data"
   ]
  },
  {
   "cell_type": "code",
   "execution_count": null,
   "id": "56839de3",
   "metadata": {},
   "outputs": [],
   "source": [
    "back_4f = np.random.randint(np.random.randint(10, 21), np.random.randint(41, 61), num_values)\n",
    "back_4f = np.sort(back_4f)\n",
    "back_4f_r = []\n",
    "back_4f_r_c = {}\n",
    "for rep in back_4f:\n",
    "    if rep not in back_4f_r_c:\n",
    "        back_4f_r_c[rep] = 8\n",
    "    else:\n",
    "        back_4f_r_c[rep] += 2\n",
    "    back_4f_r.append(back_4f_r_c[rep])\n",
    "df_back_4f = pd.DataFrame({'Back_Weight': back_4f, 'Back_Repetitions': back_4f_r})"
   ]
  },
  {
   "cell_type": "markdown",
   "id": "48458a0a",
   "metadata": {},
   "source": [
    "### Full body data"
   ]
  },
  {
   "cell_type": "code",
   "execution_count": null,
   "id": "e7df8d41",
   "metadata": {},
   "outputs": [],
   "source": [
    "list_chloe = [chest_4f, chest_4f_r, shoulders_4f, shoulders_4f_r, legs_4f, legs_4f_r, back_4f, back_4f_r]"
   ]
  },
  {
   "cell_type": "code",
   "execution_count": null,
   "id": "b7e312d6",
   "metadata": {},
   "outputs": [],
   "source": [
    "df_fourth_female = pd.concat([df_chest_4f, df_shoulders_4f, df_legs_4f, df_back_4f], axis = 1)\n",
    "df_fourth_female.head()"
   ]
  },
  {
   "cell_type": "markdown",
   "id": "512f8565",
   "metadata": {},
   "source": [
    "# Data exploration"
   ]
  },
  {
   "cell_type": "code",
   "execution_count": null,
   "id": "85bf50f7",
   "metadata": {},
   "outputs": [],
   "source": [
    "fig, ((ax1, ax2), (ax3, ax4)) = plt.subplots(2, 2, figsize=(12,5))\n",
    "\n",
    "sns.lineplot(df_first_female, x='Chest_Weight', y='Chest_Repetitions', ax=ax1)\n",
    "ax1.set_title('Julia Chest Improvement')\n",
    "\n",
    "sns.lineplot(df_second_female, x='Chest_Weight', y='Chest_Repetitions', ax=ax2)\n",
    "ax2.set_title('Jane Chest Improvement')\n",
    "\n",
    "sns.lineplot(df_third_female, x='Chest_Weight', y='Chest_Repetitions', ax=ax3)\n",
    "ax3.set_title('Lily Chest Improvement')\n",
    "\n",
    "sns.lineplot(df_fourth_female, x='Chest_Weight', y='Chest_Repetitions', ax=ax4)\n",
    "ax4.set_title('Chloe Chest Improvement')\n",
    "\n",
    "plt.tight_layout()"
   ]
  },
  {
   "cell_type": "markdown",
   "id": "6205c280",
   "metadata": {},
   "source": [
    "Although the data is still randomly created, the general consensus is that females are physically weaker than male. This is why I've deliberately chosen lower weights.\\\n",
    "Contrary to its male counterpart, we can see that the female user would stagnate much more on chest and back, and this, due to the lower range of weights. On the contrary, males tend to stagnate more for the legs. Thus, the model should take this into account too."
   ]
  },
  {
   "cell_type": "code",
   "execution_count": null,
   "id": "b0e7af1f",
   "metadata": {},
   "outputs": [],
   "source": [
    "plt.plot(df_first_female['Chest_Weight'])\n",
    "plt.plot(df_second_female['Chest_Weight'])\n",
    "plt.plot(df_third_female['Chest_Weight'])\n",
    "plt.plot(df_fourth_female['Chest_Weight'])\n",
    "plt.title('Improvement in Bench Press for each female user')\n",
    "plt.xlabel('Number of sessions')\n",
    "plt.ylabel('Weight')\n",
    "plt.legend(['Julia', 'Jane', 'Lily', 'Chloe'])"
   ]
  }
 ],
 "metadata": {
  "kernelspec": {
   "display_name": "Python 3 (ipykernel)",
   "language": "python",
   "name": "python3"
  },
  "language_info": {
   "codemirror_mode": {
    "name": "ipython",
    "version": 3
   },
   "file_extension": ".py",
   "mimetype": "text/x-python",
   "name": "python",
   "nbconvert_exporter": "python",
   "pygments_lexer": "ipython3",
   "version": "3.10.6"
  },
  "toc": {
   "base_numbering": 1,
   "nav_menu": {},
   "number_sections": true,
   "sideBar": true,
   "skip_h1_title": false,
   "title_cell": "Table of Contents",
   "title_sidebar": "Contents",
   "toc_cell": false,
   "toc_position": {},
   "toc_section_display": true,
   "toc_window_display": true
  },
  "varInspector": {
   "cols": {
    "lenName": 16,
    "lenType": 16,
    "lenVar": 40
   },
   "kernels_config": {
    "python": {
     "delete_cmd_postfix": "",
     "delete_cmd_prefix": "del ",
     "library": "var_list.py",
     "varRefreshCmd": "print(var_dic_list())"
    },
    "r": {
     "delete_cmd_postfix": ") ",
     "delete_cmd_prefix": "rm(",
     "library": "var_list.r",
     "varRefreshCmd": "cat(var_dic_list()) "
    }
   },
   "types_to_exclude": [
    "module",
    "function",
    "builtin_function_or_method",
    "instance",
    "_Feature"
   ],
   "window_display": false
  }
 },
 "nbformat": 4,
 "nbformat_minor": 5
}
