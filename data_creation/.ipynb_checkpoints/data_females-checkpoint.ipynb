{
 "cells": [
  {
   "cell_type": "markdown",
   "id": "31b022f1",
   "metadata": {},
   "source": [
    "# Imports"
   ]
  },
  {
   "cell_type": "code",
   "execution_count": 1,
   "id": "5a6e4b45",
   "metadata": {},
   "outputs": [],
   "source": [
    "import pandas as pd\n",
    "import numpy as np\n",
    "import csv\n",
    "import matplotlib.pyplot as plt\n",
    "import seaborn as sns"
   ]
  },
  {
   "cell_type": "markdown",
   "id": "d73b2ed5",
   "metadata": {},
   "source": [
    "# Creation of female data"
   ]
  },
  {
   "cell_type": "markdown",
   "id": "fdb7c11b",
   "metadata": {},
   "source": [
    "## First female user (name = Julia)"
   ]
  },
  {
   "cell_type": "markdown",
   "id": "a1da9e37",
   "metadata": {},
   "source": [
    "### Chest exercise data"
   ]
  },
  {
   "cell_type": "code",
   "execution_count": 2,
   "id": "91ad9257",
   "metadata": {},
   "outputs": [],
   "source": [
    "num_values = 100"
   ]
  },
  {
   "cell_type": "code",
   "execution_count": 3,
   "id": "2ba268e2",
   "metadata": {},
   "outputs": [],
   "source": [
    "chest_ff = np.random.randint(20 * 2, 51 * 2, num_values) / 2\n",
    "chest_ff = np.sort(chest_ff)\n",
    "chest_ff_r = []\n",
    "chest_ff_r_c = {}\n",
    "for rep in chest_ff:\n",
    "    if rep not in chest_ff_r_c:\n",
    "        chest_ff_r_c[rep] = 8\n",
    "    else:\n",
    "        chest_ff_r_c[rep] += 2\n",
    "    chest_ff_r.append(chest_ff_r_c[rep])\n",
    "df_chest_ff = pd.DataFrame({'Chest_Weight': chest_ff, 'Chest_Repetitions': chest_ff_r})"
   ]
  },
  {
   "cell_type": "markdown",
   "id": "a648ef7c",
   "metadata": {},
   "source": [
    "### Shoulders exercise data"
   ]
  },
  {
   "cell_type": "code",
   "execution_count": 4,
   "id": "51d19c8e",
   "metadata": {},
   "outputs": [],
   "source": [
    "shoulders_ff = np.random.randint(4, 11, num_values)\n",
    "shoulders_ff = np.sort(shoulders_ff)\n",
    "shoulders_ff_r = []\n",
    "shoulders_ff_r_c = {}\n",
    "for rep in shoulders_ff:\n",
    "    if rep not in shoulders_ff_r_c:\n",
    "        shoulders_ff_r_c[rep] = 8\n",
    "    else:\n",
    "        shoulders_ff_r_c[rep] += 1\n",
    "    if shoulders_ff_r_c[rep] > 15:\n",
    "        shoulders_ff_r_c[rep] = 15\n",
    "    shoulders_ff_r.append(shoulders_ff_r_c[rep])\n",
    "df_shoulders_ff = pd.DataFrame({'Shoulders_Weight': shoulders_ff, 'Shoulders_Repetitions': shoulders_ff_r})"
   ]
  },
  {
   "cell_type": "markdown",
   "id": "ff979dbb",
   "metadata": {},
   "source": [
    "### Legs exercise data"
   ]
  },
  {
   "cell_type": "code",
   "execution_count": 5,
   "id": "39137b0b",
   "metadata": {},
   "outputs": [],
   "source": [
    "legs_ff = np.random.randint(30 * 2, 71 * 2, num_values) / 2\n",
    "legs_ff = np.sort(legs_ff)\n",
    "legs_ff_r = []\n",
    "legs_ff_r_c = {}\n",
    "for rep in legs_ff:\n",
    "    if rep not in legs_ff_r_c:\n",
    "        legs_ff_r_c[rep] = 8\n",
    "    else:\n",
    "        legs_ff_r_c[rep] += 2\n",
    "    legs_ff_r.append(legs_ff_r_c[rep])\n",
    "df_legs_ff = pd.DataFrame({'Legs_Weight': legs_ff, 'Legs_Repetitions': legs_ff_r})"
   ]
  },
  {
   "cell_type": "markdown",
   "id": "a5934dcb",
   "metadata": {},
   "source": [
    "### Back exercise data"
   ]
  },
  {
   "cell_type": "code",
   "execution_count": 6,
   "id": "b2145521",
   "metadata": {},
   "outputs": [],
   "source": [
    "back_ff = np.random.randint(10 * 2, 41 * 2, num_values) / 2\n",
    "back_ff = np.sort(back_ff)\n",
    "back_ff_r = []\n",
    "back_ff_r_c = {}\n",
    "for rep in back_ff:\n",
    "    if rep not in back_ff_r_c:\n",
    "        back_ff_r_c[rep] = 8\n",
    "    else:\n",
    "        back_ff_r_c[rep] += 2\n",
    "    back_ff_r.append(back_ff_r_c[rep])\n",
    "df_back_ff = pd.DataFrame({'Back_Weight': back_ff, 'Back_Repetitions': back_ff_r})"
   ]
  },
  {
   "cell_type": "markdown",
   "id": "3cfa81e2",
   "metadata": {},
   "source": [
    "### Full body data"
   ]
  },
  {
   "cell_type": "code",
   "execution_count": 7,
   "id": "3c4075cb",
   "metadata": {},
   "outputs": [],
   "source": [
    "list_julia = [chest_ff, chest_ff_r, shoulders_ff, shoulders_ff_r, legs_ff, legs_ff_r, back_ff, back_ff_r]"
   ]
  },
  {
   "cell_type": "code",
   "execution_count": 8,
   "id": "7ef296b8",
   "metadata": {},
   "outputs": [
    {
     "data": {
      "text/html": [
       "<div>\n",
       "<style scoped>\n",
       "    .dataframe tbody tr th:only-of-type {\n",
       "        vertical-align: middle;\n",
       "    }\n",
       "\n",
       "    .dataframe tbody tr th {\n",
       "        vertical-align: top;\n",
       "    }\n",
       "\n",
       "    .dataframe thead th {\n",
       "        text-align: right;\n",
       "    }\n",
       "</style>\n",
       "<table border=\"1\" class=\"dataframe\">\n",
       "  <thead>\n",
       "    <tr style=\"text-align: right;\">\n",
       "      <th></th>\n",
       "      <th>Chest_Weight</th>\n",
       "      <th>Chest_Repetitions</th>\n",
       "      <th>Shoulders_Weight</th>\n",
       "      <th>Shoulders_Repetitions</th>\n",
       "      <th>Legs_Weight</th>\n",
       "      <th>Legs_Repetitions</th>\n",
       "      <th>Back_Weight</th>\n",
       "      <th>Back_Repetitions</th>\n",
       "    </tr>\n",
       "  </thead>\n",
       "  <tbody>\n",
       "    <tr>\n",
       "      <th>0</th>\n",
       "      <td>20.0</td>\n",
       "      <td>8</td>\n",
       "      <td>4</td>\n",
       "      <td>8</td>\n",
       "      <td>30.0</td>\n",
       "      <td>8</td>\n",
       "      <td>10.0</td>\n",
       "      <td>8</td>\n",
       "    </tr>\n",
       "    <tr>\n",
       "      <th>1</th>\n",
       "      <td>20.5</td>\n",
       "      <td>8</td>\n",
       "      <td>4</td>\n",
       "      <td>9</td>\n",
       "      <td>30.0</td>\n",
       "      <td>10</td>\n",
       "      <td>11.5</td>\n",
       "      <td>8</td>\n",
       "    </tr>\n",
       "    <tr>\n",
       "      <th>2</th>\n",
       "      <td>21.0</td>\n",
       "      <td>8</td>\n",
       "      <td>4</td>\n",
       "      <td>10</td>\n",
       "      <td>30.5</td>\n",
       "      <td>8</td>\n",
       "      <td>12.0</td>\n",
       "      <td>8</td>\n",
       "    </tr>\n",
       "    <tr>\n",
       "      <th>3</th>\n",
       "      <td>21.5</td>\n",
       "      <td>8</td>\n",
       "      <td>4</td>\n",
       "      <td>11</td>\n",
       "      <td>31.0</td>\n",
       "      <td>8</td>\n",
       "      <td>12.5</td>\n",
       "      <td>8</td>\n",
       "    </tr>\n",
       "    <tr>\n",
       "      <th>4</th>\n",
       "      <td>22.5</td>\n",
       "      <td>8</td>\n",
       "      <td>4</td>\n",
       "      <td>12</td>\n",
       "      <td>31.5</td>\n",
       "      <td>8</td>\n",
       "      <td>13.5</td>\n",
       "      <td>8</td>\n",
       "    </tr>\n",
       "  </tbody>\n",
       "</table>\n",
       "</div>"
      ],
      "text/plain": [
       "   Chest_Weight  Chest_Repetitions  Shoulders_Weight  Shoulders_Repetitions  \\\n",
       "0          20.0                  8                 4                      8   \n",
       "1          20.5                  8                 4                      9   \n",
       "2          21.0                  8                 4                     10   \n",
       "3          21.5                  8                 4                     11   \n",
       "4          22.5                  8                 4                     12   \n",
       "\n",
       "   Legs_Weight  Legs_Repetitions  Back_Weight  Back_Repetitions  \n",
       "0         30.0                 8         10.0                 8  \n",
       "1         30.0                10         11.5                 8  \n",
       "2         30.5                 8         12.0                 8  \n",
       "3         31.0                 8         12.5                 8  \n",
       "4         31.5                 8         13.5                 8  "
      ]
     },
     "execution_count": 8,
     "metadata": {},
     "output_type": "execute_result"
    }
   ],
   "source": [
    "df_first_female = pd.concat([df_chest_ff, df_shoulders_ff, df_legs_ff, df_back_ff], axis = 1)\n",
    "df_first_female.head()"
   ]
  },
  {
   "cell_type": "markdown",
   "id": "1a2cb827",
   "metadata": {},
   "source": [
    "## Second female user (name = Jane)"
   ]
  },
  {
   "cell_type": "markdown",
   "id": "62837f65",
   "metadata": {},
   "source": [
    "### Chest exercise data"
   ]
  },
  {
   "cell_type": "code",
   "execution_count": 9,
   "id": "91e0c01b",
   "metadata": {},
   "outputs": [],
   "source": [
    "chest_sf = np.random.randint(10 * 2, 38 * 2, num_values) / 2\n",
    "chest_sf = np.sort(chest_sf)\n",
    "chest_sf_r = []\n",
    "chest_sf_r_c = {}\n",
    "for rep in chest_sf:\n",
    "    if rep not in chest_sf_r_c:\n",
    "        chest_sf_r_c[rep] = 8\n",
    "    else:\n",
    "        chest_sf_r_c[rep] += 1\n",
    "    chest_sf_r.append(chest_sf_r_c[rep])\n",
    "df_chest_sf = pd.DataFrame({'Chest_Weight': chest_sf, 'Chest_Repetitions': chest_sf_r})"
   ]
  },
  {
   "cell_type": "markdown",
   "id": "0bffbae0",
   "metadata": {},
   "source": [
    "### Shoulders exercise data"
   ]
  },
  {
   "cell_type": "code",
   "execution_count": 10,
   "id": "cb0e985b",
   "metadata": {},
   "outputs": [],
   "source": [
    "shoulders_sf = np.random.randint(3, 8, num_values)\n",
    "shoulders_sf = np.sort(shoulders_sf)\n",
    "shoulders_sf_r = []\n",
    "shoulders_sf_r_c = {}\n",
    "for rep in shoulders_sf:\n",
    "    if rep not in shoulders_sf_r_c:\n",
    "        shoulders_sf_r_c[rep] = 8\n",
    "    else:\n",
    "        shoulders_sf_r_c[rep] += 1\n",
    "    if shoulders_sf_r_c[rep] > 15:\n",
    "        shoulders_sf_r_c[rep] = 15\n",
    "    shoulders_sf_r.append(shoulders_sf_r_c[rep])\n",
    "df_shoulders_sf = pd.DataFrame({'Shoulders_Weight': shoulders_sf, 'Shoulders_Repetitions': shoulders_sf_r})"
   ]
  },
  {
   "cell_type": "markdown",
   "id": "943f4809",
   "metadata": {},
   "source": [
    "### Legs exercise data"
   ]
  },
  {
   "cell_type": "code",
   "execution_count": 11,
   "id": "6475eea2",
   "metadata": {},
   "outputs": [],
   "source": [
    "legs_sf = np.random.randint(20 * 2, 51 * 2, num_values) / 2\n",
    "legs_sf = np.sort(legs_sf)\n",
    "legs_sf_r = []\n",
    "legs_sf_r_c = {}\n",
    "for rep in legs_sf:\n",
    "    if rep not in legs_sf_r_c:\n",
    "        legs_sf_r_c[rep] = 8\n",
    "    else:\n",
    "        legs_sf_r_c[rep] += 2\n",
    "    legs_sf_r.append(legs_sf_r_c[rep])\n",
    "df_legs_sf = pd.DataFrame({'Legs_Weight': legs_sf, 'Legs_Repetitions': legs_sf_r})"
   ]
  },
  {
   "cell_type": "markdown",
   "id": "4c065044",
   "metadata": {},
   "source": [
    "### Back exercise data"
   ]
  },
  {
   "cell_type": "code",
   "execution_count": 12,
   "id": "3287f3bc",
   "metadata": {},
   "outputs": [],
   "source": [
    "back_sf = np.random.randint(10 * 4, 31 * 4, num_values) / 4\n",
    "back_sf = np.sort(back_sf)\n",
    "back_sf_r = []\n",
    "back_sf_r_c = {}\n",
    "for rep in back_sf:\n",
    "    if rep not in back_sf_r_c:\n",
    "        back_sf_r_c[rep] = 8\n",
    "    else:\n",
    "        back_sf_r_c[rep] += 2\n",
    "    back_sf_r.append(back_sf_r_c[rep])\n",
    "df_back_sf = pd.DataFrame({'Back_Weight': back_sf, 'Back_Repetitions': back_sf_r})"
   ]
  },
  {
   "cell_type": "markdown",
   "id": "308059f2",
   "metadata": {},
   "source": [
    "### Full body data"
   ]
  },
  {
   "cell_type": "code",
   "execution_count": 13,
   "id": "78e03cb8",
   "metadata": {},
   "outputs": [],
   "source": [
    "list_jane = [chest_sf, chest_sf_r, shoulders_sf, shoulders_sf_r, legs_sf, legs_sf_r, back_sf, back_sf_r]"
   ]
  },
  {
   "cell_type": "code",
   "execution_count": 14,
   "id": "2a80e4ca",
   "metadata": {},
   "outputs": [
    {
     "data": {
      "text/html": [
       "<div>\n",
       "<style scoped>\n",
       "    .dataframe tbody tr th:only-of-type {\n",
       "        vertical-align: middle;\n",
       "    }\n",
       "\n",
       "    .dataframe tbody tr th {\n",
       "        vertical-align: top;\n",
       "    }\n",
       "\n",
       "    .dataframe thead th {\n",
       "        text-align: right;\n",
       "    }\n",
       "</style>\n",
       "<table border=\"1\" class=\"dataframe\">\n",
       "  <thead>\n",
       "    <tr style=\"text-align: right;\">\n",
       "      <th></th>\n",
       "      <th>Chest_Weight</th>\n",
       "      <th>Chest_Repetitions</th>\n",
       "      <th>Shoulders_Weight</th>\n",
       "      <th>Shoulders_Repetitions</th>\n",
       "      <th>Legs_Weight</th>\n",
       "      <th>Legs_Repetitions</th>\n",
       "      <th>Back_Weight</th>\n",
       "      <th>Back_Repetitions</th>\n",
       "    </tr>\n",
       "  </thead>\n",
       "  <tbody>\n",
       "    <tr>\n",
       "      <th>0</th>\n",
       "      <td>10.0</td>\n",
       "      <td>8</td>\n",
       "      <td>3</td>\n",
       "      <td>8</td>\n",
       "      <td>20.5</td>\n",
       "      <td>8</td>\n",
       "      <td>10.00</td>\n",
       "      <td>8</td>\n",
       "    </tr>\n",
       "    <tr>\n",
       "      <th>1</th>\n",
       "      <td>10.0</td>\n",
       "      <td>9</td>\n",
       "      <td>3</td>\n",
       "      <td>9</td>\n",
       "      <td>20.5</td>\n",
       "      <td>10</td>\n",
       "      <td>10.00</td>\n",
       "      <td>10</td>\n",
       "    </tr>\n",
       "    <tr>\n",
       "      <th>2</th>\n",
       "      <td>10.0</td>\n",
       "      <td>10</td>\n",
       "      <td>3</td>\n",
       "      <td>10</td>\n",
       "      <td>21.0</td>\n",
       "      <td>8</td>\n",
       "      <td>10.00</td>\n",
       "      <td>12</td>\n",
       "    </tr>\n",
       "    <tr>\n",
       "      <th>3</th>\n",
       "      <td>10.0</td>\n",
       "      <td>11</td>\n",
       "      <td>3</td>\n",
       "      <td>11</td>\n",
       "      <td>21.0</td>\n",
       "      <td>10</td>\n",
       "      <td>10.00</td>\n",
       "      <td>14</td>\n",
       "    </tr>\n",
       "    <tr>\n",
       "      <th>4</th>\n",
       "      <td>10.0</td>\n",
       "      <td>12</td>\n",
       "      <td>3</td>\n",
       "      <td>12</td>\n",
       "      <td>21.5</td>\n",
       "      <td>8</td>\n",
       "      <td>10.00</td>\n",
       "      <td>16</td>\n",
       "    </tr>\n",
       "    <tr>\n",
       "      <th>...</th>\n",
       "      <td>...</td>\n",
       "      <td>...</td>\n",
       "      <td>...</td>\n",
       "      <td>...</td>\n",
       "      <td>...</td>\n",
       "      <td>...</td>\n",
       "      <td>...</td>\n",
       "      <td>...</td>\n",
       "    </tr>\n",
       "    <tr>\n",
       "      <th>95</th>\n",
       "      <td>36.5</td>\n",
       "      <td>10</td>\n",
       "      <td>7</td>\n",
       "      <td>15</td>\n",
       "      <td>49.5</td>\n",
       "      <td>14</td>\n",
       "      <td>30.25</td>\n",
       "      <td>8</td>\n",
       "    </tr>\n",
       "    <tr>\n",
       "      <th>96</th>\n",
       "      <td>36.5</td>\n",
       "      <td>11</td>\n",
       "      <td>7</td>\n",
       "      <td>15</td>\n",
       "      <td>50.5</td>\n",
       "      <td>8</td>\n",
       "      <td>30.50</td>\n",
       "      <td>8</td>\n",
       "    </tr>\n",
       "    <tr>\n",
       "      <th>97</th>\n",
       "      <td>37.0</td>\n",
       "      <td>8</td>\n",
       "      <td>7</td>\n",
       "      <td>15</td>\n",
       "      <td>50.5</td>\n",
       "      <td>10</td>\n",
       "      <td>30.50</td>\n",
       "      <td>10</td>\n",
       "    </tr>\n",
       "    <tr>\n",
       "      <th>98</th>\n",
       "      <td>37.0</td>\n",
       "      <td>9</td>\n",
       "      <td>7</td>\n",
       "      <td>15</td>\n",
       "      <td>50.5</td>\n",
       "      <td>12</td>\n",
       "      <td>30.50</td>\n",
       "      <td>12</td>\n",
       "    </tr>\n",
       "    <tr>\n",
       "      <th>99</th>\n",
       "      <td>37.5</td>\n",
       "      <td>8</td>\n",
       "      <td>7</td>\n",
       "      <td>15</td>\n",
       "      <td>50.5</td>\n",
       "      <td>14</td>\n",
       "      <td>30.75</td>\n",
       "      <td>8</td>\n",
       "    </tr>\n",
       "  </tbody>\n",
       "</table>\n",
       "<p>100 rows × 8 columns</p>\n",
       "</div>"
      ],
      "text/plain": [
       "    Chest_Weight  Chest_Repetitions  Shoulders_Weight  Shoulders_Repetitions  \\\n",
       "0           10.0                  8                 3                      8   \n",
       "1           10.0                  9                 3                      9   \n",
       "2           10.0                 10                 3                     10   \n",
       "3           10.0                 11                 3                     11   \n",
       "4           10.0                 12                 3                     12   \n",
       "..           ...                ...               ...                    ...   \n",
       "95          36.5                 10                 7                     15   \n",
       "96          36.5                 11                 7                     15   \n",
       "97          37.0                  8                 7                     15   \n",
       "98          37.0                  9                 7                     15   \n",
       "99          37.5                  8                 7                     15   \n",
       "\n",
       "    Legs_Weight  Legs_Repetitions  Back_Weight  Back_Repetitions  \n",
       "0          20.5                 8        10.00                 8  \n",
       "1          20.5                10        10.00                10  \n",
       "2          21.0                 8        10.00                12  \n",
       "3          21.0                10        10.00                14  \n",
       "4          21.5                 8        10.00                16  \n",
       "..          ...               ...          ...               ...  \n",
       "95         49.5                14        30.25                 8  \n",
       "96         50.5                 8        30.50                 8  \n",
       "97         50.5                10        30.50                10  \n",
       "98         50.5                12        30.50                12  \n",
       "99         50.5                14        30.75                 8  \n",
       "\n",
       "[100 rows x 8 columns]"
      ]
     },
     "execution_count": 14,
     "metadata": {},
     "output_type": "execute_result"
    }
   ],
   "source": [
    "df_second_female = pd.concat([df_chest_sf, df_shoulders_sf, df_legs_sf, df_back_sf], axis = 1)\n",
    "df_second_female"
   ]
  },
  {
   "cell_type": "markdown",
   "id": "d22e0074",
   "metadata": {},
   "source": [
    "## Third female user (name = Lily)"
   ]
  },
  {
   "cell_type": "markdown",
   "id": "f28e18e0",
   "metadata": {},
   "source": [
    "### Chest exercise data"
   ]
  },
  {
   "cell_type": "code",
   "execution_count": 15,
   "id": "6d0be8d5",
   "metadata": {},
   "outputs": [],
   "source": [
    "chest_tf = np.random.randint(20, 61, num_values)\n",
    "chest_tf = np.sort(chest_tf)\n",
    "chest_tf_r = []\n",
    "chest_tf_r_c = {}\n",
    "for rep in chest_tf:\n",
    "    if rep not in chest_tf_r_c:\n",
    "        chest_tf_r_c[rep] = 8\n",
    "    else:\n",
    "        chest_tf_r_c[rep] += 1\n",
    "    chest_tf_r.append(chest_tf_r_c[rep])\n",
    "df_chest_tf = pd.DataFrame({'Chest_Weight': chest_tf, 'Chest_Repetitions': chest_tf_r})"
   ]
  },
  {
   "cell_type": "markdown",
   "id": "6833383a",
   "metadata": {},
   "source": [
    "### Shoulders exercise data"
   ]
  },
  {
   "cell_type": "code",
   "execution_count": 16,
   "id": "4699d501",
   "metadata": {},
   "outputs": [],
   "source": [
    "shoulders_tf = np.random.randint(4, 11, num_values)\n",
    "shoulders_tf = np.sort(shoulders_tf)\n",
    "shoulders_tf_r = []\n",
    "shoulders_tf_r_c = {}\n",
    "for rep in shoulders_tf:\n",
    "    if rep not in shoulders_tf_r_c:\n",
    "        shoulders_tf_r_c[rep] = 8\n",
    "    else:\n",
    "        shoulders_tf_r_c[rep] += 1\n",
    "    if shoulders_tf_r_c[rep] > 15:\n",
    "        shoulders_tf_r_c[rep] = 15\n",
    "    shoulders_tf_r.append(shoulders_tf_r_c[rep])\n",
    "df_shoulders_tf = pd.DataFrame({'Shoulders_Weight': shoulders_tf, 'Shoulders_Repetitions': shoulders_tf_r})"
   ]
  },
  {
   "cell_type": "markdown",
   "id": "e8c641ed",
   "metadata": {},
   "source": [
    "### Legs exercise data"
   ]
  },
  {
   "cell_type": "code",
   "execution_count": 17,
   "id": "26e4f604",
   "metadata": {},
   "outputs": [],
   "source": [
    "legs_tf = np.random.randint(30, 81, num_values)\n",
    "legs_tf = np.sort(legs_tf)\n",
    "legs_tf_r = []\n",
    "legs_tf_r_c = {}\n",
    "for rep in legs_tf:\n",
    "    if rep not in legs_tf_r_c:\n",
    "        legs_tf_r_c[rep] = 8\n",
    "    else:\n",
    "        legs_tf_r_c[rep] += 2\n",
    "    legs_tf_r.append(legs_tf_r_c[rep])\n",
    "df_legs_tf = pd.DataFrame({'Legs_Weight': legs_tf, 'Legs_Repetitions': legs_tf_r})"
   ]
  },
  {
   "cell_type": "markdown",
   "id": "bcbcacb4",
   "metadata": {},
   "source": [
    "### Back exercise data"
   ]
  },
  {
   "cell_type": "code",
   "execution_count": 18,
   "id": "94ebe9be",
   "metadata": {},
   "outputs": [],
   "source": [
    "back_tf = np.random.randint(15, 61, num_values)\n",
    "back_tf = np.sort(back_tf)\n",
    "back_tf_r = []\n",
    "back_tf_r_c = {}\n",
    "for rep in back_tf:\n",
    "    if rep not in back_tf_r_c:\n",
    "        back_tf_r_c[rep] = 8\n",
    "    else:\n",
    "        back_tf_r_c[rep] += 2\n",
    "    back_tf_r.append(back_tf_r_c[rep])\n",
    "df_back_tf = pd.DataFrame({'Back_Weight': back_tf, 'Back_Repetitions': back_tf_r})"
   ]
  },
  {
   "cell_type": "markdown",
   "id": "fdbd9fb6",
   "metadata": {},
   "source": [
    "### Full body data"
   ]
  },
  {
   "cell_type": "code",
   "execution_count": 19,
   "id": "eabf103e",
   "metadata": {},
   "outputs": [],
   "source": [
    "list_lily = [chest_tf, chest_tf_r, shoulders_tf, shoulders_tf_r, legs_tf, legs_tf_r, back_tf, back_tf_r]"
   ]
  },
  {
   "cell_type": "code",
   "execution_count": 20,
   "id": "68c86608",
   "metadata": {},
   "outputs": [
    {
     "data": {
      "text/html": [
       "<div>\n",
       "<style scoped>\n",
       "    .dataframe tbody tr th:only-of-type {\n",
       "        vertical-align: middle;\n",
       "    }\n",
       "\n",
       "    .dataframe tbody tr th {\n",
       "        vertical-align: top;\n",
       "    }\n",
       "\n",
       "    .dataframe thead th {\n",
       "        text-align: right;\n",
       "    }\n",
       "</style>\n",
       "<table border=\"1\" class=\"dataframe\">\n",
       "  <thead>\n",
       "    <tr style=\"text-align: right;\">\n",
       "      <th></th>\n",
       "      <th>Chest_Weight</th>\n",
       "      <th>Chest_Repetitions</th>\n",
       "      <th>Shoulders_Weight</th>\n",
       "      <th>Shoulders_Repetitions</th>\n",
       "      <th>Legs_Weight</th>\n",
       "      <th>Legs_Repetitions</th>\n",
       "      <th>Back_Weight</th>\n",
       "      <th>Back_Repetitions</th>\n",
       "    </tr>\n",
       "  </thead>\n",
       "  <tbody>\n",
       "    <tr>\n",
       "      <th>0</th>\n",
       "      <td>20</td>\n",
       "      <td>8</td>\n",
       "      <td>4</td>\n",
       "      <td>8</td>\n",
       "      <td>31</td>\n",
       "      <td>8</td>\n",
       "      <td>15</td>\n",
       "      <td>8</td>\n",
       "    </tr>\n",
       "    <tr>\n",
       "      <th>1</th>\n",
       "      <td>20</td>\n",
       "      <td>9</td>\n",
       "      <td>4</td>\n",
       "      <td>9</td>\n",
       "      <td>31</td>\n",
       "      <td>10</td>\n",
       "      <td>15</td>\n",
       "      <td>10</td>\n",
       "    </tr>\n",
       "    <tr>\n",
       "      <th>2</th>\n",
       "      <td>21</td>\n",
       "      <td>8</td>\n",
       "      <td>4</td>\n",
       "      <td>10</td>\n",
       "      <td>31</td>\n",
       "      <td>12</td>\n",
       "      <td>15</td>\n",
       "      <td>12</td>\n",
       "    </tr>\n",
       "    <tr>\n",
       "      <th>3</th>\n",
       "      <td>21</td>\n",
       "      <td>9</td>\n",
       "      <td>4</td>\n",
       "      <td>11</td>\n",
       "      <td>31</td>\n",
       "      <td>14</td>\n",
       "      <td>17</td>\n",
       "      <td>8</td>\n",
       "    </tr>\n",
       "    <tr>\n",
       "      <th>4</th>\n",
       "      <td>21</td>\n",
       "      <td>10</td>\n",
       "      <td>4</td>\n",
       "      <td>12</td>\n",
       "      <td>32</td>\n",
       "      <td>8</td>\n",
       "      <td>18</td>\n",
       "      <td>8</td>\n",
       "    </tr>\n",
       "    <tr>\n",
       "      <th>...</th>\n",
       "      <td>...</td>\n",
       "      <td>...</td>\n",
       "      <td>...</td>\n",
       "      <td>...</td>\n",
       "      <td>...</td>\n",
       "      <td>...</td>\n",
       "      <td>...</td>\n",
       "      <td>...</td>\n",
       "    </tr>\n",
       "    <tr>\n",
       "      <th>95</th>\n",
       "      <td>58</td>\n",
       "      <td>9</td>\n",
       "      <td>10</td>\n",
       "      <td>15</td>\n",
       "      <td>80</td>\n",
       "      <td>10</td>\n",
       "      <td>58</td>\n",
       "      <td>10</td>\n",
       "    </tr>\n",
       "    <tr>\n",
       "      <th>96</th>\n",
       "      <td>59</td>\n",
       "      <td>8</td>\n",
       "      <td>10</td>\n",
       "      <td>15</td>\n",
       "      <td>80</td>\n",
       "      <td>12</td>\n",
       "      <td>59</td>\n",
       "      <td>8</td>\n",
       "    </tr>\n",
       "    <tr>\n",
       "      <th>97</th>\n",
       "      <td>59</td>\n",
       "      <td>9</td>\n",
       "      <td>10</td>\n",
       "      <td>15</td>\n",
       "      <td>80</td>\n",
       "      <td>14</td>\n",
       "      <td>60</td>\n",
       "      <td>8</td>\n",
       "    </tr>\n",
       "    <tr>\n",
       "      <th>98</th>\n",
       "      <td>60</td>\n",
       "      <td>8</td>\n",
       "      <td>10</td>\n",
       "      <td>15</td>\n",
       "      <td>80</td>\n",
       "      <td>16</td>\n",
       "      <td>60</td>\n",
       "      <td>10</td>\n",
       "    </tr>\n",
       "    <tr>\n",
       "      <th>99</th>\n",
       "      <td>60</td>\n",
       "      <td>9</td>\n",
       "      <td>10</td>\n",
       "      <td>15</td>\n",
       "      <td>80</td>\n",
       "      <td>18</td>\n",
       "      <td>60</td>\n",
       "      <td>12</td>\n",
       "    </tr>\n",
       "  </tbody>\n",
       "</table>\n",
       "<p>100 rows × 8 columns</p>\n",
       "</div>"
      ],
      "text/plain": [
       "    Chest_Weight  Chest_Repetitions  Shoulders_Weight  Shoulders_Repetitions  \\\n",
       "0             20                  8                 4                      8   \n",
       "1             20                  9                 4                      9   \n",
       "2             21                  8                 4                     10   \n",
       "3             21                  9                 4                     11   \n",
       "4             21                 10                 4                     12   \n",
       "..           ...                ...               ...                    ...   \n",
       "95            58                  9                10                     15   \n",
       "96            59                  8                10                     15   \n",
       "97            59                  9                10                     15   \n",
       "98            60                  8                10                     15   \n",
       "99            60                  9                10                     15   \n",
       "\n",
       "    Legs_Weight  Legs_Repetitions  Back_Weight  Back_Repetitions  \n",
       "0            31                 8           15                 8  \n",
       "1            31                10           15                10  \n",
       "2            31                12           15                12  \n",
       "3            31                14           17                 8  \n",
       "4            32                 8           18                 8  \n",
       "..          ...               ...          ...               ...  \n",
       "95           80                10           58                10  \n",
       "96           80                12           59                 8  \n",
       "97           80                14           60                 8  \n",
       "98           80                16           60                10  \n",
       "99           80                18           60                12  \n",
       "\n",
       "[100 rows x 8 columns]"
      ]
     },
     "execution_count": 20,
     "metadata": {},
     "output_type": "execute_result"
    }
   ],
   "source": [
    "df_third_female = pd.concat([df_chest_tf, df_shoulders_tf, df_legs_tf, df_back_tf], axis = 1)\n",
    "df_third_female"
   ]
  },
  {
   "cell_type": "markdown",
   "id": "4367aeee",
   "metadata": {},
   "source": [
    "## Fourth female user (name = Chloe)"
   ]
  },
  {
   "cell_type": "markdown",
   "id": "8acb08b7",
   "metadata": {},
   "source": [
    "### Chest exercise data"
   ]
  },
  {
   "cell_type": "code",
   "execution_count": 21,
   "id": "f7e8e53c",
   "metadata": {},
   "outputs": [],
   "source": [
    "chest_4f = np.random.randint(np.random.randint(1, 20), np.random.randint(41, 81), num_values)\n",
    "chest_4f = np.sort(chest_4f)\n",
    "chest_4f_r = []\n",
    "chest_4f_r_c = {}\n",
    "for rep in chest_4f:\n",
    "    if rep not in chest_4f_r_c:\n",
    "        chest_4f_r_c[rep] = 8\n",
    "    else:\n",
    "        chest_4f_r_c[rep] += 1\n",
    "    chest_4f_r.append(chest_4f_r_c[rep])\n",
    "df_chest_4f = pd.DataFrame({'Chest_Weight': chest_4f, 'Chest_Repetitions': chest_4f_r})"
   ]
  },
  {
   "cell_type": "markdown",
   "id": "8efe75c2",
   "metadata": {},
   "source": [
    "### Shoulders exercise data"
   ]
  },
  {
   "cell_type": "code",
   "execution_count": 22,
   "id": "74720e2c",
   "metadata": {},
   "outputs": [],
   "source": [
    "shoulders_4f = np.random.randint(np.random.randint(1, 4), np.random.randint(6, 12), num_values)\n",
    "shoulders_4f = np.sort(shoulders_4f)\n",
    "shoulders_4f_r = []\n",
    "shoulders_4f_r_c = {}\n",
    "for rep in shoulders_4f:\n",
    "    if rep not in shoulders_4f_r_c:\n",
    "        shoulders_4f_r_c[rep] = 8\n",
    "    else:\n",
    "        shoulders_4f_r_c[rep] += 1\n",
    "    if shoulders_4f_r_c[rep] > 15:\n",
    "        shoulders_4f_r_c[rep] = 15\n",
    "    shoulders_4f_r.append(shoulders_4f_r_c[rep])\n",
    "df_shoulders_4f = pd.DataFrame({'Shoulders_Weight': shoulders_4f, 'Shoulders_Repetitions': shoulders_4f_r})"
   ]
  },
  {
   "cell_type": "markdown",
   "id": "76c159e5",
   "metadata": {},
   "source": [
    "### Legs exercise data"
   ]
  },
  {
   "cell_type": "code",
   "execution_count": 23,
   "id": "78127614",
   "metadata": {},
   "outputs": [],
   "source": [
    "legs_4f = np.random.randint(np.random.randint(15, 32), np.random.randint(50, 91), num_values)\n",
    "legs_4f = np.sort(legs_4f)\n",
    "legs_4f_r = []\n",
    "legs_4f_r_c = {}\n",
    "for rep in legs_4f:\n",
    "    if rep not in legs_4f_r_c:\n",
    "        legs_4f_r_c[rep] = 8\n",
    "    else:\n",
    "        legs_4f_r_c[rep] += 2\n",
    "    legs_4f_r.append(legs_4f_r_c[rep])\n",
    "df_legs_4f = pd.DataFrame({'Legs_Weight': legs_4f, 'Legs_Repetitions': legs_4f_r})"
   ]
  },
  {
   "cell_type": "markdown",
   "id": "302a70a0",
   "metadata": {},
   "source": [
    "### Back exercise data"
   ]
  },
  {
   "cell_type": "code",
   "execution_count": 24,
   "id": "5ad06196",
   "metadata": {},
   "outputs": [],
   "source": [
    "back_4f = np.random.randint(np.random.randint(10, 21), np.random.randint(41, 61), num_values)\n",
    "back_4f = np.sort(back_4f)\n",
    "back_4f_r = []\n",
    "back_4f_r_c = {}\n",
    "for rep in back_4f:\n",
    "    if rep not in back_4f_r_c:\n",
    "        back_4f_r_c[rep] = 8\n",
    "    else:\n",
    "        back_4f_r_c[rep] += 2\n",
    "    back_4f_r.append(back_4f_r_c[rep])\n",
    "df_back_4f = pd.DataFrame({'Back_Weight': back_4f, 'Back_Repetitions': back_4f_r})"
   ]
  },
  {
   "cell_type": "markdown",
   "id": "7616c904",
   "metadata": {},
   "source": [
    "### Full body data"
   ]
  },
  {
   "cell_type": "code",
   "execution_count": 25,
   "id": "480cdcc7",
   "metadata": {},
   "outputs": [],
   "source": [
    "list_chloe = [chest_4f, chest_4f_r, shoulders_4f, shoulders_4f_r, legs_4f, legs_4f_r, back_4f, back_4f_r]"
   ]
  },
  {
   "cell_type": "code",
   "execution_count": 26,
   "id": "208369fb",
   "metadata": {},
   "outputs": [
    {
     "data": {
      "text/html": [
       "<div>\n",
       "<style scoped>\n",
       "    .dataframe tbody tr th:only-of-type {\n",
       "        vertical-align: middle;\n",
       "    }\n",
       "\n",
       "    .dataframe tbody tr th {\n",
       "        vertical-align: top;\n",
       "    }\n",
       "\n",
       "    .dataframe thead th {\n",
       "        text-align: right;\n",
       "    }\n",
       "</style>\n",
       "<table border=\"1\" class=\"dataframe\">\n",
       "  <thead>\n",
       "    <tr style=\"text-align: right;\">\n",
       "      <th></th>\n",
       "      <th>Chest_Weight</th>\n",
       "      <th>Chest_Repetitions</th>\n",
       "      <th>Shoulders_Weight</th>\n",
       "      <th>Shoulders_Repetitions</th>\n",
       "      <th>Legs_Weight</th>\n",
       "      <th>Legs_Repetitions</th>\n",
       "      <th>Back_Weight</th>\n",
       "      <th>Back_Repetitions</th>\n",
       "    </tr>\n",
       "  </thead>\n",
       "  <tbody>\n",
       "    <tr>\n",
       "      <th>0</th>\n",
       "      <td>18</td>\n",
       "      <td>8</td>\n",
       "      <td>1</td>\n",
       "      <td>8</td>\n",
       "      <td>22</td>\n",
       "      <td>8</td>\n",
       "      <td>18</td>\n",
       "      <td>8</td>\n",
       "    </tr>\n",
       "    <tr>\n",
       "      <th>1</th>\n",
       "      <td>18</td>\n",
       "      <td>9</td>\n",
       "      <td>1</td>\n",
       "      <td>9</td>\n",
       "      <td>22</td>\n",
       "      <td>10</td>\n",
       "      <td>18</td>\n",
       "      <td>10</td>\n",
       "    </tr>\n",
       "    <tr>\n",
       "      <th>2</th>\n",
       "      <td>18</td>\n",
       "      <td>10</td>\n",
       "      <td>1</td>\n",
       "      <td>10</td>\n",
       "      <td>23</td>\n",
       "      <td>8</td>\n",
       "      <td>18</td>\n",
       "      <td>12</td>\n",
       "    </tr>\n",
       "    <tr>\n",
       "      <th>3</th>\n",
       "      <td>18</td>\n",
       "      <td>11</td>\n",
       "      <td>1</td>\n",
       "      <td>11</td>\n",
       "      <td>23</td>\n",
       "      <td>10</td>\n",
       "      <td>18</td>\n",
       "      <td>14</td>\n",
       "    </tr>\n",
       "    <tr>\n",
       "      <th>4</th>\n",
       "      <td>18</td>\n",
       "      <td>12</td>\n",
       "      <td>1</td>\n",
       "      <td>12</td>\n",
       "      <td>23</td>\n",
       "      <td>12</td>\n",
       "      <td>18</td>\n",
       "      <td>16</td>\n",
       "    </tr>\n",
       "  </tbody>\n",
       "</table>\n",
       "</div>"
      ],
      "text/plain": [
       "   Chest_Weight  Chest_Repetitions  Shoulders_Weight  Shoulders_Repetitions  \\\n",
       "0            18                  8                 1                      8   \n",
       "1            18                  9                 1                      9   \n",
       "2            18                 10                 1                     10   \n",
       "3            18                 11                 1                     11   \n",
       "4            18                 12                 1                     12   \n",
       "\n",
       "   Legs_Weight  Legs_Repetitions  Back_Weight  Back_Repetitions  \n",
       "0           22                 8           18                 8  \n",
       "1           22                10           18                10  \n",
       "2           23                 8           18                12  \n",
       "3           23                10           18                14  \n",
       "4           23                12           18                16  "
      ]
     },
     "execution_count": 26,
     "metadata": {},
     "output_type": "execute_result"
    }
   ],
   "source": [
    "df_fourth_female = pd.concat([df_chest_4f, df_shoulders_4f, df_legs_4f, df_back_4f], axis = 1)\n",
    "df_fourth_female.head()"
   ]
  },
  {
   "cell_type": "markdown",
   "id": "6c8846b9",
   "metadata": {},
   "source": [
    "# Data exploration"
   ]
  },
  {
   "cell_type": "code",
   "execution_count": 27,
   "id": "8ff73a77",
   "metadata": {},
   "outputs": [
    {
     "data": {
      "image/png": "[encoded data removed]",
      "text/plain": [
       "<Figure size 1200x500 with 4 Axes>"
      ]
     },
     "metadata": {},
     "output_type": "display_data"
    }
   ],
   "source": [
    "fig, ((ax1, ax2), (ax3, ax4)) = plt.subplots(2, 2, figsize=(12,5))\n",
    "\n",
    "sns.lineplot(df_first_female, x='Chest_Weight', y='Chest_Repetitions', ax=ax1)\n",
    "ax1.set_title('Julia Chest Improvement')\n",
    "\n",
    "sns.lineplot(df_second_female, x='Chest_Weight', y='Chest_Repetitions', ax=ax2)\n",
    "ax2.set_title('Jane Chest Improvement')\n",
    "\n",
    "sns.lineplot(df_third_female, x='Chest_Weight', y='Chest_Repetitions', ax=ax3)\n",
    "ax3.set_title('Lily Chest Improvement')\n",
    "\n",
    "sns.lineplot(df_fourth_female, x='Chest_Weight', y='Chest_Repetitions', ax=ax4)\n",
    "ax4.set_title('Chloe Chest Improvement')\n",
    "\n",
    "plt.tight_layout()"
   ]
  },
  {
   "cell_type": "markdown",
   "id": "75fd489d",
   "metadata": {},
   "source": [
    "Although the data is still randomly created, the general consensus is that females are physically weaker than male. This is why I've deliberately chosen lower weights.\\\n",
    "Contrary to its male counterpart, we can see that the female user would stagnate much more on chest and back, and this, due to the lower range of weights. On the contrary, males tend to stagnate more for the legs. Thus, the model should take this into account too."
   ]
  },
  {
   "cell_type": "code",
   "execution_count": 28,
   "id": "aba026c2",
   "metadata": {},
   "outputs": [
    {
     "data": {
      "text/plain": [
       "<matplotlib.legend.Legend at 0x7f095b6a7820>"
      ]
     },
     "execution_count": 28,
     "metadata": {},
     "output_type": "execute_result"
    },
    {
     "data": {
      "image/png": "[encoded data removed]",
      "text/plain": [
       "<Figure size 640x480 with 1 Axes>"
      ]
     },
     "metadata": {},
     "output_type": "display_data"
    }
   ],
   "source": [
    "plt.plot(df_first_female['Chest_Weight'])\n",
    "plt.plot(df_second_female['Chest_Weight'])\n",
    "plt.plot(df_third_female['Chest_Weight'])\n",
    "plt.plot(df_fourth_female['Chest_Weight'])\n",
    "plt.title('Improvement in Bench Press for each female user')\n",
    "plt.xlabel('Number of sessions')\n",
    "plt.ylabel('Weight')\n",
    "plt.legend(['Julia', 'Jane', 'Lily', 'Chloe'])"
   ]
  }
 ],
 "metadata": {
  "kernelspec": {
   "display_name": "Python 3 (ipykernel)",
   "language": "python",
   "name": "python3"
  },
  "language_info": {
   "codemirror_mode": {
    "name": "ipython",
    "version": 3
   },
   "file_extension": ".py",
   "mimetype": "text/x-python",
   "name": "python",
   "nbconvert_exporter": "python",
   "pygments_lexer": "ipython3",
   "version": "3.10.6"
  },
  "toc": {
   "base_numbering": 1,
   "nav_menu": {},
   "number_sections": true,
   "sideBar": true,
   "skip_h1_title": false,
   "title_cell": "Table of Contents",
   "title_sidebar": "Contents",
   "toc_cell": false,
   "toc_position": {},
   "toc_section_display": true,
   "toc_window_display": true
  },
  "varInspector": {
   "cols": {
    "lenName": 16,
    "lenType": 16,
    "lenVar": 40
   },
   "kernels_config": {
    "python": {
     "delete_cmd_postfix": "",
     "delete_cmd_prefix": "del ",
     "library": "var_list.py",
     "varRefreshCmd": "print(var_dic_list())"
    },
    "r": {
     "delete_cmd_postfix": ") ",
     "delete_cmd_prefix": "rm(",
     "library": "var_list.r",
     "varRefreshCmd": "cat(var_dic_list()) "
    }
   },
   "types_to_exclude": [
    "module",
    "function",
    "builtin_function_or_method",
    "instance",
    "_Feature"
   ],
   "window_display": false
  }
 },
 "nbformat": 4,
 "nbformat_minor": 5
}
